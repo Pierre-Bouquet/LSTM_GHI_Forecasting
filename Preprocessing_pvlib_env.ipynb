{
 "cells": [
  {
   "cell_type": "code",
   "execution_count": 11,
   "metadata": {},
   "outputs": [],
   "source": [
    "import pandas as pd\n",
    "import glob\n",
    "import matplotlib.pyplot as plt\n",
    "import numpy as np \n",
    "\n",
    "import pvlib\n",
    "from pvlib import clearsky, atmosphere, solarposition\n",
    "from pvlib.location import Location\n",
    "from pvlib.iotools import read_tmy3\n",
    "\n",
    "import warnings\n",
    "warnings.filterwarnings(\"ignore\")\n"
   ]
  },
  {
   "cell_type": "markdown",
   "metadata": {},
   "source": [
    "### Step 0 of the Pre-processing: importing the data"
   ]
  },
  {
   "cell_type": "code",
   "execution_count": 12,
   "metadata": {},
   "outputs": [],
   "source": [
    "df = pd.read_csv(\".\\Month_final\\GHI_2016_2021.csv\")\n",
    "df.columns =['date', 'GHI']"
   ]
  },
  {
   "cell_type": "code",
   "execution_count": 13,
   "metadata": {},
   "outputs": [
    {
     "data": {
      "text/plain": [
       "(17297280, 2)"
      ]
     },
     "execution_count": 13,
     "metadata": {},
     "output_type": "execute_result"
    }
   ],
   "source": [
    "df.shape"
   ]
  },
  {
   "cell_type": "code",
   "execution_count": 18,
   "metadata": {},
   "outputs": [],
   "source": [
    "df_year = df"
   ]
  },
  {
   "cell_type": "markdown",
   "metadata": {},
   "source": [
    "### Step 1 of the Pre-processing: Cleaning the NaNs"
   ]
  },
  {
   "cell_type": "code",
   "execution_count": 19,
   "metadata": {},
   "outputs": [
    {
     "data": {
      "text/plain": [
       "date         0\n",
       "GHI     717723\n",
       "dtype: int64"
      ]
     },
     "execution_count": 19,
     "metadata": {},
     "output_type": "execute_result"
    }
   ],
   "source": [
    "df_year.isnull().sum()"
   ]
  },
  {
   "cell_type": "code",
   "execution_count": 20,
   "metadata": {},
   "outputs": [],
   "source": [
    "def ranges(nums):\n",
    "    nums = sorted(set(nums))\n",
    "    gaps = [[s, e] for s, e in zip(nums, nums[1:]) if s+1 < e]\n",
    "    edges = iter(nums[:1] + sum(gaps, []) + nums[-1:])\n",
    "    return list(zip(edges, edges))\n"
   ]
  },
  {
   "cell_type": "code",
   "execution_count": 27,
   "metadata": {},
   "outputs": [],
   "source": [
    "df_year_na = df_year[df_year.GHI.isna()]\n",
    "index_na_consec = np.array(df_year_na.index)\n",
    "temp = ranges(index_na_consec)\n"
   ]
  },
  {
   "cell_type": "code",
   "execution_count": 28,
   "metadata": {},
   "outputs": [],
   "source": [
    "temp = pd.DataFrame(temp)\n",
    "temp.columns =[\"int1\", \"int2\"]\n",
    "temp[temp.int1 == temp.int2]\n",
    "\n",
    "index_non_consec = temp[temp.int1 == temp.int2].int1.values\n"
   ]
  },
  {
   "cell_type": "code",
   "execution_count": 29,
   "metadata": {},
   "outputs": [],
   "source": [
    "##Do the interpolation for the positions\n",
    "\n",
    "index_na_consec_prev = index_non_consec-1\n",
    "index_na_consec_next = index_non_consec+1\n",
    "\n",
    "df_year.loc[index_non_consec, 'GHI'] = (df_year.loc[index_na_consec_prev,\n",
    "                                                  'GHI'].values+df_year.loc[index_na_consec_next, 'GHI'].values)/2\n"
   ]
  },
  {
   "cell_type": "code",
   "execution_count": 30,
   "metadata": {},
   "outputs": [],
   "source": [
    "#Drop the rest of the NaN\n",
    "\n",
    "df_year = df_year.dropna()\n"
   ]
  },
  {
   "cell_type": "code",
   "execution_count": 31,
   "metadata": {},
   "outputs": [
    {
     "data": {
      "text/plain": [
       "date    0\n",
       "GHI     0\n",
       "dtype: int64"
      ]
     },
     "execution_count": 31,
     "metadata": {},
     "output_type": "execute_result"
    }
   ],
   "source": [
    "df_year.isnull().sum()\n"
   ]
  },
  {
   "cell_type": "code",
   "execution_count": 32,
   "metadata": {},
   "outputs": [
    {
     "data": {
      "text/html": [
       "<div>\n",
       "<style scoped>\n",
       "    .dataframe tbody tr th:only-of-type {\n",
       "        vertical-align: middle;\n",
       "    }\n",
       "\n",
       "    .dataframe tbody tr th {\n",
       "        vertical-align: top;\n",
       "    }\n",
       "\n",
       "    .dataframe thead th {\n",
       "        text-align: right;\n",
       "    }\n",
       "</style>\n",
       "<table border=\"1\" class=\"dataframe\">\n",
       "  <thead>\n",
       "    <tr style=\"text-align: right;\">\n",
       "      <th></th>\n",
       "      <th>GHI</th>\n",
       "    </tr>\n",
       "  </thead>\n",
       "  <tbody>\n",
       "    <tr>\n",
       "      <th>2016-01-08 00:00:00</th>\n",
       "      <td>2.923</td>\n",
       "    </tr>\n",
       "    <tr>\n",
       "      <th>2016-01-08 00:00:10</th>\n",
       "      <td>2.957</td>\n",
       "    </tr>\n",
       "    <tr>\n",
       "      <th>2016-01-08 00:00:20</th>\n",
       "      <td>2.945</td>\n",
       "    </tr>\n",
       "    <tr>\n",
       "      <th>2016-01-08 00:00:30</th>\n",
       "      <td>2.938</td>\n",
       "    </tr>\n",
       "    <tr>\n",
       "      <th>2016-01-08 00:00:40</th>\n",
       "      <td>2.936</td>\n",
       "    </tr>\n",
       "    <tr>\n",
       "      <th>...</th>\n",
       "      <td>...</td>\n",
       "    </tr>\n",
       "    <tr>\n",
       "      <th>2021-11-02 23:59:10</th>\n",
       "      <td>2.717</td>\n",
       "    </tr>\n",
       "    <tr>\n",
       "      <th>2021-11-02 23:59:20</th>\n",
       "      <td>2.523</td>\n",
       "    </tr>\n",
       "    <tr>\n",
       "      <th>2021-11-02 23:59:30</th>\n",
       "      <td>2.495</td>\n",
       "    </tr>\n",
       "    <tr>\n",
       "      <th>2021-11-02 23:59:40</th>\n",
       "      <td>2.510</td>\n",
       "    </tr>\n",
       "    <tr>\n",
       "      <th>2021-11-02 23:59:50</th>\n",
       "      <td>2.685</td>\n",
       "    </tr>\n",
       "  </tbody>\n",
       "</table>\n",
       "<p>16591240 rows × 1 columns</p>\n",
       "</div>"
      ],
      "text/plain": [
       "                       GHI\n",
       "2016-01-08 00:00:00  2.923\n",
       "2016-01-08 00:00:10  2.957\n",
       "2016-01-08 00:00:20  2.945\n",
       "2016-01-08 00:00:30  2.938\n",
       "2016-01-08 00:00:40  2.936\n",
       "...                    ...\n",
       "2021-11-02 23:59:10  2.717\n",
       "2021-11-02 23:59:20  2.523\n",
       "2021-11-02 23:59:30  2.495\n",
       "2021-11-02 23:59:40  2.510\n",
       "2021-11-02 23:59:50  2.685\n",
       "\n",
       "[16591240 rows x 1 columns]"
      ]
     },
     "execution_count": 32,
     "metadata": {},
     "output_type": "execute_result"
    }
   ],
   "source": [
    "#Putting the index in the right format\n",
    "\n",
    "#Formating the df with a datetime format\n",
    "\n",
    "df_year['date'] = pd.to_datetime(df_year['date'])\n",
    "\n",
    "\n",
    "#Setting date time as index\n",
    "\n",
    "df_year = df_year.set_index(\"date\", drop=True)\n",
    "\n",
    "df_year.index.name = None\n",
    "\n",
    "df_year\n"
   ]
  },
  {
   "cell_type": "markdown",
   "metadata": {},
   "source": [
    "### Step 2 of the Pre-processing: Removal of outliers"
   ]
  },
  {
   "cell_type": "code",
   "execution_count": 33,
   "metadata": {},
   "outputs": [],
   "source": [
    "## Removal of outliers\n",
    "GHI_max = 1000\n",
    "GHI_min = 0\n",
    "\n",
    "df_year = df_year[df_year[\"GHI\"] < GHI_max]\n",
    "df_year = df_year[df_year[\"GHI\"] > GHI_min]\n"
   ]
  },
  {
   "cell_type": "markdown",
   "metadata": {},
   "source": [
    "### Step 3 of the Pre-processing: Calculation of the GHIcs"
   ]
  },
  {
   "cell_type": "code",
   "execution_count": 34,
   "metadata": {},
   "outputs": [
    {
     "data": {
      "text/html": [
       "<div>\n",
       "<style scoped>\n",
       "    .dataframe tbody tr th:only-of-type {\n",
       "        vertical-align: middle;\n",
       "    }\n",
       "\n",
       "    .dataframe tbody tr th {\n",
       "        vertical-align: top;\n",
       "    }\n",
       "\n",
       "    .dataframe thead th {\n",
       "        text-align: right;\n",
       "    }\n",
       "</style>\n",
       "<table border=\"1\" class=\"dataframe\">\n",
       "  <thead>\n",
       "    <tr style=\"text-align: right;\">\n",
       "      <th></th>\n",
       "      <th>GHI</th>\n",
       "      <th>GHIcs</th>\n",
       "    </tr>\n",
       "  </thead>\n",
       "  <tbody>\n",
       "    <tr>\n",
       "      <th>2016-01-08 00:00:00</th>\n",
       "      <td>2.923</td>\n",
       "      <td>0.0</td>\n",
       "    </tr>\n",
       "    <tr>\n",
       "      <th>2016-01-08 00:00:10</th>\n",
       "      <td>2.957</td>\n",
       "      <td>0.0</td>\n",
       "    </tr>\n",
       "    <tr>\n",
       "      <th>2016-01-08 00:00:20</th>\n",
       "      <td>2.945</td>\n",
       "      <td>0.0</td>\n",
       "    </tr>\n",
       "    <tr>\n",
       "      <th>2016-01-08 00:00:30</th>\n",
       "      <td>2.938</td>\n",
       "      <td>0.0</td>\n",
       "    </tr>\n",
       "    <tr>\n",
       "      <th>2016-01-08 00:00:40</th>\n",
       "      <td>2.936</td>\n",
       "      <td>0.0</td>\n",
       "    </tr>\n",
       "  </tbody>\n",
       "</table>\n",
       "</div>"
      ],
      "text/plain": [
       "                       GHI  GHIcs\n",
       "2016-01-08 00:00:00  2.923    0.0\n",
       "2016-01-08 00:00:10  2.957    0.0\n",
       "2016-01-08 00:00:20  2.945    0.0\n",
       "2016-01-08 00:00:30  2.938    0.0\n",
       "2016-01-08 00:00:40  2.936    0.0"
      ]
     },
     "execution_count": 34,
     "metadata": {},
     "output_type": "execute_result"
    }
   ],
   "source": [
    "#Clear sky GHI calculation\n",
    "\n",
    "latitude = 46.518\n",
    "longitude = 6.565\n",
    "time_zone = 'Europe/Zurich'\n",
    "altitude = 400\n",
    "place = 'Ecublens'\n",
    "frequency = '10S'\n",
    "limit_irr = 30\n",
    "\n",
    "tus = Location(latitude, longitude, time_zone, altitude, place)\n",
    "\n",
    "cs = tus.get_clearsky(df_year.index)\n",
    "df_year['GHIcs'] = cs.ghi\n",
    "\n",
    "df_year.head(5)\n"
   ]
  },
  {
   "cell_type": "markdown",
   "metadata": {},
   "source": [
    "### Step 4 of the Pre-processing: Removal of the night measurements"
   ]
  },
  {
   "cell_type": "code",
   "execution_count": 35,
   "metadata": {},
   "outputs": [],
   "source": [
    "#Filtering with GHIcs \n",
    "df_year = df_year[df_year[\"GHIcs\"] > 30]\n"
   ]
  },
  {
   "cell_type": "markdown",
   "metadata": {},
   "source": [
    "### Step 5 of the Pre-processing: Calculation of the kcs"
   ]
  },
  {
   "cell_type": "code",
   "execution_count": 36,
   "metadata": {},
   "outputs": [
    {
     "data": {
      "text/html": [
       "<div>\n",
       "<style scoped>\n",
       "    .dataframe tbody tr th:only-of-type {\n",
       "        vertical-align: middle;\n",
       "    }\n",
       "\n",
       "    .dataframe tbody tr th {\n",
       "        vertical-align: top;\n",
       "    }\n",
       "\n",
       "    .dataframe thead th {\n",
       "        text-align: right;\n",
       "    }\n",
       "</style>\n",
       "<table border=\"1\" class=\"dataframe\">\n",
       "  <thead>\n",
       "    <tr style=\"text-align: right;\">\n",
       "      <th></th>\n",
       "      <th>GHI</th>\n",
       "      <th>GHIcs</th>\n",
       "      <th>k</th>\n",
       "    </tr>\n",
       "  </thead>\n",
       "  <tbody>\n",
       "    <tr>\n",
       "      <th>2016-01-08 07:59:00</th>\n",
       "      <td>15.394</td>\n",
       "      <td>30.209756</td>\n",
       "      <td>0.509570</td>\n",
       "    </tr>\n",
       "    <tr>\n",
       "      <th>2016-01-08 07:59:10</th>\n",
       "      <td>15.447</td>\n",
       "      <td>30.471824</td>\n",
       "      <td>0.506927</td>\n",
       "    </tr>\n",
       "    <tr>\n",
       "      <th>2016-01-08 07:59:20</th>\n",
       "      <td>15.472</td>\n",
       "      <td>30.734662</td>\n",
       "      <td>0.503406</td>\n",
       "    </tr>\n",
       "    <tr>\n",
       "      <th>2016-01-08 07:59:30</th>\n",
       "      <td>15.542</td>\n",
       "      <td>30.998266</td>\n",
       "      <td>0.501383</td>\n",
       "    </tr>\n",
       "    <tr>\n",
       "      <th>2016-01-08 07:59:40</th>\n",
       "      <td>15.539</td>\n",
       "      <td>31.262629</td>\n",
       "      <td>0.497047</td>\n",
       "    </tr>\n",
       "  </tbody>\n",
       "</table>\n",
       "</div>"
      ],
      "text/plain": [
       "                        GHI      GHIcs         k\n",
       "2016-01-08 07:59:00  15.394  30.209756  0.509570\n",
       "2016-01-08 07:59:10  15.447  30.471824  0.506927\n",
       "2016-01-08 07:59:20  15.472  30.734662  0.503406\n",
       "2016-01-08 07:59:30  15.542  30.998266  0.501383\n",
       "2016-01-08 07:59:40  15.539  31.262629  0.497047"
      ]
     },
     "execution_count": 36,
     "metadata": {},
     "output_type": "execute_result"
    }
   ],
   "source": [
    "#Calculating kcs\n",
    "\n",
    "GHI = df_year[\"GHI\"]\n",
    "GHIcs = df_year[\"GHIcs\"]\n",
    "df_year.loc[:, \"k\"] = GHI / GHIcs\n",
    "df_year.head(5)\n"
   ]
  },
  {
   "cell_type": "markdown",
   "metadata": {},
   "source": [
    "### Step 6 of the Pre-processing: Calculation of the 1st, 2nd and 3rd order derivatives"
   ]
  },
  {
   "cell_type": "code",
   "execution_count": 38,
   "metadata": {},
   "outputs": [],
   "source": [
    "def FirstOrderCentraldDiff (serie, h):\n",
    "    y_t0 = serie.values.flatten()[:-1]\n",
    "    y_t1 = serie.values.flatten()[1:]\n",
    "    return np.concatenate([(y_t0-y_t1)/(h), [np.nan]])\n",
    "\n",
    "def SecondOrderCentralDiff (serie, h):\n",
    "    y_t0 = serie.values.flatten()[:-2]\n",
    "    y_t1 = serie.values.flatten()[1:-1]\n",
    "    y_t2 = serie.values.flatten()[2:]\n",
    "    return np.concatenate([(y_t0-2*y_t1+y_t2)/((h)**2), [np.nan], [np.nan]])\n",
    "    \n",
    "def ThirdOrderCentralDiff(serie, h):\n",
    "    y_t0 = serie.values.flatten()[:-3]\n",
    "    y_t1 = serie.values.flatten()[1:-2]\n",
    "    y_t2 = serie.values.flatten()[2:-1]\n",
    "    y_t3 = serie.values.flatten()[3:]\n",
    "    return np.concatenate([(y_t0-3*y_t1+3*y_t2-y_t3)/(h**3), [np.nan], [np.nan], [np.nan]])\n"
   ]
  },
  {
   "cell_type": "code",
   "execution_count": 44,
   "metadata": {},
   "outputs": [],
   "source": [
    "h = 10 #10s\n",
    "\n",
    "df_year[\"GHI_d1\"] = FirstOrderCentraldDiff(df_year.GHI, h)\n",
    "df_year[\"GHIcs_d1\"] = FirstOrderCentraldDiff(df_year.GHIcs, h)\n",
    "df_year[\"k_d1\"] = FirstOrderCentraldDiff(df_year.k, h)\n",
    "\n",
    "\n",
    "df_year[\"GHI_d2\"] = SecondOrderCentralDiff(df_year.GHI, h)\n",
    "df_year[\"GHIcs_d2\"] = SecondOrderCentralDiff(df_year.GHIcs, h)\n",
    "df_year[\"k_d2\"] = SecondOrderCentralDiff(df_year.k, h)\n",
    "\n",
    "df_year[\"GHI_d3\"] = ThirdOrderCentralDiff(df_year.GHI, h)\n",
    "df_year[\"GHIcs_d3\"] = ThirdOrderCentralDiff(df_year.GHIcs, h)\n",
    "df_year[\"k_d3\"] = ThirdOrderCentralDiff(df_year.k, h)\n",
    "\n",
    "df_year = df_year.dropna()\n"
   ]
  },
  {
   "cell_type": "code",
   "execution_count": 45,
   "metadata": {},
   "outputs": [
    {
     "data": {
      "text/plain": [
       "Index(['GHI', 'GHIcs', 'k', 'GHI_d1', 'GHI_d2', 'GHI_d3', 'GHIcs_d1',\n",
       "       'GHIcs_d2', 'GHIcs_d3', 'k_d1', 'k_d2', 'k_d3', 'month', 'day', 'hour'],\n",
       "      dtype='object')"
      ]
     },
     "execution_count": 45,
     "metadata": {},
     "output_type": "execute_result"
    }
   ],
   "source": [
    "df_year.columns"
   ]
  },
  {
   "cell_type": "markdown",
   "metadata": {},
   "source": [
    "### Step 7 of the Pre-processing: Adding the cycle indicators (second, hours, day and month numbers)"
   ]
  },
  {
   "cell_type": "code",
   "execution_count": 46,
   "metadata": {},
   "outputs": [
    {
     "data": {
      "text/html": [
       "<div>\n",
       "<style scoped>\n",
       "    .dataframe tbody tr th:only-of-type {\n",
       "        vertical-align: middle;\n",
       "    }\n",
       "\n",
       "    .dataframe tbody tr th {\n",
       "        vertical-align: top;\n",
       "    }\n",
       "\n",
       "    .dataframe thead th {\n",
       "        text-align: right;\n",
       "    }\n",
       "</style>\n",
       "<table border=\"1\" class=\"dataframe\">\n",
       "  <thead>\n",
       "    <tr style=\"text-align: right;\">\n",
       "      <th></th>\n",
       "      <th>GHI</th>\n",
       "      <th>GHIcs</th>\n",
       "      <th>k</th>\n",
       "      <th>GHI_d1</th>\n",
       "      <th>GHI_d2</th>\n",
       "      <th>GHI_d3</th>\n",
       "      <th>GHIcs_d1</th>\n",
       "      <th>GHIcs_d2</th>\n",
       "      <th>GHIcs_d3</th>\n",
       "      <th>k_d1</th>\n",
       "      <th>k_d2</th>\n",
       "      <th>k_d3</th>\n",
       "      <th>month</th>\n",
       "      <th>day</th>\n",
       "      <th>hour</th>\n",
       "    </tr>\n",
       "  </thead>\n",
       "  <tbody>\n",
       "    <tr>\n",
       "      <th>2016-01-08 07:59:00</th>\n",
       "      <td>15.394</td>\n",
       "      <td>30.209756</td>\n",
       "      <td>0.509570</td>\n",
       "      <td>-0.0053</td>\n",
       "      <td>-0.00028</td>\n",
       "      <td>-0.000073</td>\n",
       "      <td>-0.026207</td>\n",
       "      <td>0.000008</td>\n",
       "      <td>4.696792e-09</td>\n",
       "      <td>0.000264</td>\n",
       "      <td>-0.000009</td>\n",
       "      <td>-2.377658e-06</td>\n",
       "      <td>0.258819</td>\n",
       "      <td>0.068802</td>\n",
       "      <td>0.793353</td>\n",
       "    </tr>\n",
       "    <tr>\n",
       "      <th>2016-01-08 07:59:10</th>\n",
       "      <td>15.447</td>\n",
       "      <td>30.471824</td>\n",
       "      <td>0.506927</td>\n",
       "      <td>-0.0025</td>\n",
       "      <td>0.00045</td>\n",
       "      <td>0.000118</td>\n",
       "      <td>-0.026284</td>\n",
       "      <td>0.000008</td>\n",
       "      <td>7.848464e-09</td>\n",
       "      <td>0.000352</td>\n",
       "      <td>0.000015</td>\n",
       "      <td>3.812120e-06</td>\n",
       "      <td>0.258819</td>\n",
       "      <td>0.068802</td>\n",
       "      <td>0.793353</td>\n",
       "    </tr>\n",
       "    <tr>\n",
       "      <th>2016-01-08 07:59:20</th>\n",
       "      <td>15.472</td>\n",
       "      <td>30.734662</td>\n",
       "      <td>0.503406</td>\n",
       "      <td>-0.0070</td>\n",
       "      <td>-0.00073</td>\n",
       "      <td>-0.000106</td>\n",
       "      <td>-0.026360</td>\n",
       "      <td>0.000008</td>\n",
       "      <td>4.653756e-09</td>\n",
       "      <td>0.000202</td>\n",
       "      <td>-0.000023</td>\n",
       "      <td>-3.420689e-06</td>\n",
       "      <td>0.258819</td>\n",
       "      <td>0.068802</td>\n",
       "      <td>0.793353</td>\n",
       "    </tr>\n",
       "    <tr>\n",
       "      <th>2016-01-08 07:59:30</th>\n",
       "      <td>15.542</td>\n",
       "      <td>30.998266</td>\n",
       "      <td>0.501383</td>\n",
       "      <td>0.0003</td>\n",
       "      <td>0.00033</td>\n",
       "      <td>-0.000012</td>\n",
       "      <td>-0.026436</td>\n",
       "      <td>0.000008</td>\n",
       "      <td>4.618456e-09</td>\n",
       "      <td>0.000434</td>\n",
       "      <td>0.000011</td>\n",
       "      <td>-3.500268e-07</td>\n",
       "      <td>0.258819</td>\n",
       "      <td>0.068802</td>\n",
       "      <td>0.793353</td>\n",
       "    </tr>\n",
       "    <tr>\n",
       "      <th>2016-01-08 07:59:40</th>\n",
       "      <td>15.539</td>\n",
       "      <td>31.262629</td>\n",
       "      <td>0.497047</td>\n",
       "      <td>-0.0030</td>\n",
       "      <td>0.00045</td>\n",
       "      <td>0.000087</td>\n",
       "      <td>-0.026512</td>\n",
       "      <td>0.000007</td>\n",
       "      <td>7.796691e-09</td>\n",
       "      <td>0.000323</td>\n",
       "      <td>0.000015</td>\n",
       "      <td>2.749664e-06</td>\n",
       "      <td>0.258819</td>\n",
       "      <td>0.068802</td>\n",
       "      <td>0.793353</td>\n",
       "    </tr>\n",
       "  </tbody>\n",
       "</table>\n",
       "</div>"
      ],
      "text/plain": [
       "                        GHI      GHIcs         k  GHI_d1   GHI_d2    GHI_d3  \\\n",
       "2016-01-08 07:59:00  15.394  30.209756  0.509570 -0.0053 -0.00028 -0.000073   \n",
       "2016-01-08 07:59:10  15.447  30.471824  0.506927 -0.0025  0.00045  0.000118   \n",
       "2016-01-08 07:59:20  15.472  30.734662  0.503406 -0.0070 -0.00073 -0.000106   \n",
       "2016-01-08 07:59:30  15.542  30.998266  0.501383  0.0003  0.00033 -0.000012   \n",
       "2016-01-08 07:59:40  15.539  31.262629  0.497047 -0.0030  0.00045  0.000087   \n",
       "\n",
       "                     GHIcs_d1  GHIcs_d2      GHIcs_d3      k_d1      k_d2  \\\n",
       "2016-01-08 07:59:00 -0.026207  0.000008  4.696792e-09  0.000264 -0.000009   \n",
       "2016-01-08 07:59:10 -0.026284  0.000008  7.848464e-09  0.000352  0.000015   \n",
       "2016-01-08 07:59:20 -0.026360  0.000008  4.653756e-09  0.000202 -0.000023   \n",
       "2016-01-08 07:59:30 -0.026436  0.000008  4.618456e-09  0.000434  0.000011   \n",
       "2016-01-08 07:59:40 -0.026512  0.000007  7.796691e-09  0.000323  0.000015   \n",
       "\n",
       "                             k_d3     month       day      hour  \n",
       "2016-01-08 07:59:00 -2.377658e-06  0.258819  0.068802  0.793353  \n",
       "2016-01-08 07:59:10  3.812120e-06  0.258819  0.068802  0.793353  \n",
       "2016-01-08 07:59:20 -3.420689e-06  0.258819  0.068802  0.793353  \n",
       "2016-01-08 07:59:30 -3.500268e-07  0.258819  0.068802  0.793353  \n",
       "2016-01-08 07:59:40  2.749664e-06  0.258819  0.068802  0.793353  "
      ]
     },
     "execution_count": 46,
     "metadata": {},
     "output_type": "execute_result"
    }
   ],
   "source": [
    "def norm_sin_hour(x):\n",
    "    return np.sin(x*np.pi/24)\n",
    "\n",
    "def norm_sin_day(x):\n",
    "    return np.sin(x*np.pi/365)\n",
    "\n",
    "def norm_sin_month(x):\n",
    "    return np.sin(x*np.pi/12)\n",
    "\n",
    "\n",
    "df_year.loc[:, \"month\"] = norm_sin_month(\n",
    "    df_year.index.month).copy()\n",
    "\n",
    "df_year.loc[:, \"day\"] = norm_sin_day(\n",
    "    df_year.index.dayofyear).copy()\n",
    "\n",
    "df_year.loc[:, \"hour\"] = norm_sin_hour(\n",
    "    df_year.index.hour).copy()\n",
    "\n",
    "df_year.head(5)\n"
   ]
  },
  {
   "cell_type": "code",
   "execution_count": 47,
   "metadata": {},
   "outputs": [
    {
     "data": {
      "text/plain": [
       "[<matplotlib.lines.Line2D at 0x17c05dd1fa0>]"
      ]
     },
     "execution_count": 47,
     "metadata": {},
     "output_type": "execute_result"
    },
    {
     "data": {
      "image/png": "[encoded data removed]",
      "text/plain": [
       "<Figure size 432x288 with 1 Axes>"
      ]
     },
     "metadata": {
      "needs_background": "light"
     },
     "output_type": "display_data"
    }
   ],
   "source": [
    "plt.plot(df_year.GHI[0:100000])\n"
   ]
  },
  {
   "cell_type": "markdown",
   "metadata": {},
   "source": [
    "### Step 8 of the Pre-processing: Sampling and exporting the data"
   ]
  },
  {
   "cell_type": "code",
   "execution_count": 49,
   "metadata": {},
   "outputs": [],
   "source": [
    "sampling_frequencies = [\"10s\", \"1T\", \"5T\", \"10T\", \"15T\",\n",
    "                        \"30T\", \"45T\", \"1H\", \"2H\", \"4H\", \"6H\", \"12H\", \"24H\", \"48H\", \"72H\", \"4D\", \"5D\", \"6D\", \"7D\"]\n",
    "sampling_frequencies_eng = [\"10s\", \"1mn\", \"5mn\", \"10mn\", \"15mn\",\n",
    "                            \"30mn\", \"45mn\", \"1h\", \"2h\", \"4h\", \"6h\", \"12h\", \"24h\", \"48h\", \"72h\", \"4days\", \"5days\", \"6days\", \"7days\"]\n",
    "for i, frequency in enumerate(sampling_frequencies):\n",
    "    save_path_cs = 'Big_data_cleaned_sampled/Data_sampled_' + \\\n",
    "        sampling_frequencies_eng[i] + '.csv'\n",
    "    temp_sampled = df_year.resample(frequency).mean()\n",
    "    temp_sampled = temp_sampled.dropna()\n",
    "    temp_sampled.to_csv(save_path_cs)\n"
   ]
  },
  {
   "cell_type": "code",
   "execution_count": null,
   "metadata": {},
   "outputs": [],
   "source": [
    "df_2= pd.read_csv(\".\\Big_data_cleaned_sampled\\Data_sampled_15mn.csv\")\n"
   ]
  },
  {
   "cell_type": "code",
   "execution_count": null,
   "metadata": {},
   "outputs": [
    {
     "data": {
      "text/plain": [
       "Index(['Unnamed: 0', 'GHI', 'GHIcs', 'k', 'GHI_d1', 'GHI_d2', 'GHI_d3',\n",
       "       'GHIcs_d1', 'GHIcs_d2', 'GHIcs_d3', 'k_d1', 'k_d2', 'k_d3', 'month',\n",
       "       'day', 'hour'],\n",
       "      dtype='object')"
      ]
     },
     "execution_count": 10,
     "metadata": {},
     "output_type": "execute_result"
    }
   ],
   "source": [
    "df_2.columns"
   ]
  },
  {
   "cell_type": "code",
   "execution_count": null,
   "metadata": {},
   "outputs": [],
   "source": [
    "sampling_frequencies = [\"1H\", \"2H\", \"4H\", \"6H\", \"12H\",\"24H\", \"48H\", \"72H\", \"4D\", \"5D\", \"6D\", \"7D\"]\n",
    "sampling_frequencies_eng = [\"1h\", \"2h\", \"4h\", \"6h\", \"12h\", \"24h\", \"48h\", \"72h\", \"4days\", \"5days\", \"6days\", \"7days\"]\n"
   ]
  },
  {
   "cell_type": "code",
   "execution_count": null,
   "metadata": {},
   "outputs": [],
   "source": []
  }
 ],
 "metadata": {
  "interpreter": {
   "hash": "3f754e0f2c035ece9b0a4f998d8077dc946278dc35515802da1198acd4f82ede"
  },
  "kernelspec": {
   "display_name": "Python 3.8.8 64-bit ('base': conda)",
   "name": "python3"
  },
  "language_info": {
   "codemirror_mode": {
    "name": "ipython",
    "version": 3
   },
   "file_extension": ".py",
   "mimetype": "text/x-python",
   "name": "python",
   "nbconvert_exporter": "python",
   "pygments_lexer": "ipython3",
   "version": "3.8.8"
  },
  "orig_nbformat": 4
 },
 "nbformat": 4,
 "nbformat_minor": 2
}
